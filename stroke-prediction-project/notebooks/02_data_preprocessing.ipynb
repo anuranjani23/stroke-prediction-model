{
 "cells": [
  {
   "cell_type": "code",
   "execution_count": 2,
   "metadata": {},
   "outputs": [
    {
     "name": "stdout",
     "output_type": "stream",
     "text": [
      "/Users/anuranjani/Desktop/my_projects/stroke-prediction-model/stroke-prediction-project/src/data_processing\n",
      "2025-03-25 21:34:06 - INFO: Loading dataset from /Users/anuranjani/Desktop/my_projects/stroke-prediction-model/stroke-prediction-project/data/raw/healthcare-dataset-stroke-data.csv\n",
      "2025-03-25 21:34:06 - INFO: Dataset shape: (5110, 12)\n",
      "2025-03-25 21:34:06 - INFO: Missing values:\n",
      "id                     0\n",
      "gender                 0\n",
      "age                    0\n",
      "hypertension           0\n",
      "heart_disease          0\n",
      "ever_married           0\n",
      "work_type              0\n",
      "Residence_type         0\n",
      "avg_glucose_level      0\n",
      "bmi                  201\n",
      "smoking_status         0\n",
      "stroke                 0\n",
      "dtype: int64\n",
      "2025-03-25 21:34:06 - INFO: Processed data saved at /Users/anuranjani/Desktop/my_projects/stroke-prediction-model/stroke-prediction-project/data/processed/cleaned_dataset.csv\n",
      "2025-03-25 21:34:06 - INFO: Processed dataset shape: (5110, 16)\n",
      "2025-03-25 21:34:06 - INFO: Feature statistics saved at /Users/anuranjani/Desktop/my_projects/stroke-prediction-model/stroke-prediction-project/data/processed/feature_statistics.txt\n",
      "\n",
      "Processed Data Overview:\n",
      "   gender       age  ...  age_bmi_interaction  hypertension_heart_disease\n",
      "0       1  1.051434  ...               2452.2                           0\n",
      "1       0  0.786070  ...               1714.1                           0\n",
      "2       1  1.626390  ...               2600.0                           0\n",
      "3       0  0.255342  ...               1685.6                           0\n",
      "4       0  1.582163  ...               1896.0                           0\n",
      "\n",
      "[5 rows x 16 columns]\n",
      "\n",
      "Data Info:\n",
      "<class 'pandas.core.frame.DataFrame'>\n",
      "RangeIndex: 5110 entries, 0 to 5109\n",
      "Data columns (total 16 columns):\n",
      " #   Column                      Non-Null Count  Dtype   \n",
      "---  ------                      --------------  -----   \n",
      " 0   gender                      5110 non-null   int64   \n",
      " 1   age                         5110 non-null   float64 \n",
      " 2   hypertension                5110 non-null   int64   \n",
      " 3   heart_disease               5110 non-null   int64   \n",
      " 4   ever_married                5110 non-null   int64   \n",
      " 5   work_type                   5110 non-null   int64   \n",
      " 6   Residence_type              5110 non-null   int64   \n",
      " 7   avg_glucose_level           5110 non-null   float64 \n",
      " 8   bmi                         5110 non-null   float64 \n",
      " 9   smoking_status              5110 non-null   int64   \n",
      " 10  stroke                      5110 non-null   int64   \n",
      " 11  age_group                   5110 non-null   category\n",
      " 12  bmi_category                5110 non-null   category\n",
      " 13  glucose_category            5110 non-null   category\n",
      " 14  age_bmi_interaction         5110 non-null   float64 \n",
      " 15  hypertension_heart_disease  5110 non-null   int64   \n",
      "dtypes: category(3), float64(4), int64(9)\n",
      "memory usage: 534.7 KB\n"
     ]
    }
   ],
   "source": [
    "%cd /Users/anuranjani/Desktop/my_projects/stroke-prediction-model/stroke-prediction-project/src/data_processing\n",
    "!python cleaning.py"
   ]
  }
 ],
 "metadata": {
  "kernelspec": {
   "display_name": ".venv",
   "language": "python",
   "name": "python3"
  },
  "language_info": {
   "codemirror_mode": {
    "name": "ipython",
    "version": 3
   },
   "file_extension": ".py",
   "mimetype": "text/x-python",
   "name": "python",
   "nbconvert_exporter": "python",
   "pygments_lexer": "ipython3",
   "version": "3.12.6"
  }
 },
 "nbformat": 4,
 "nbformat_minor": 2
}
